{
 "cells": [
  {
   "cell_type": "code",
   "execution_count": 1,
   "id": "second-trustee",
   "metadata": {},
   "outputs": [],
   "source": [
    "import time, sys\n",
    "import web3 as w3; w3 = w3.Account\n",
    "from objsize import get_deep_size as get_size\n",
    "from eth_account.messages import encode_defunct as encode_msg\n",
    "from hashlib import sha256"
   ]
  },
  {
   "cell_type": "code",
   "execution_count": 2,
   "id": "incorrect-basement",
   "metadata": {},
   "outputs": [],
   "source": [
    "# print hash\n",
    "ph = lambda h: h[:16] + '...' + h[-3:]\n",
    "\n",
    "# random hash\n",
    "rh = lambda: sha256(str(time.time()).encode()).hexdigest()"
   ]
  },
  {
   "cell_type": "code",
   "execution_count": 3,
   "id": "sound-tanzania",
   "metadata": {},
   "outputs": [],
   "source": [
    "class Account:\n",
    "    def __init__(self): \n",
    "        self.priv, self.pub = Account.keys()\n",
    "        self.nonce = 0\n",
    "        \n",
    "    @staticmethod\n",
    "    def keys():\n",
    "        acc = w3.create()\n",
    "        return acc.privateKey.hex(), acc.address\n",
    "    \n",
    "    def sign(self, tx):\n",
    "        self.nonce += 1\n",
    "        m = encode_msg(bytes(tx))\n",
    "        return w3.sign_message(m, self.priv)\n",
    "    \n",
    "    def verify(self, tx, sig):\n",
    "        m = encode_msg(bytes(tx))\n",
    "        return w3.recover_message(m, signature=sig.signature) == self.pub\n",
    "    \n",
    "    def mine(self, block, diff, reward, attempts=1000):\n",
    "        mblock   = MinebleBlock(*unpack(block), self.pub, diff, reward, block.size())\n",
    "        mblock_b = bytes(mblock)\n",
    "        nonce = 0\n",
    "        for i in range(attempts):\n",
    "            candidate   = mblock_b + str(nonce).encode()\n",
    "            candidate_h = sha256(candidate).hexdigest()\n",
    "            if candidate_h[:diff] == '0'*diff: return MinedBlock(*unpack(mblock), nonce)\n",
    "            nonce += 1"
   ]
  },
  {
   "cell_type": "code",
   "execution_count": 4,
   "id": "noted-sperm",
   "metadata": {},
   "outputs": [
    {
     "data": {
      "text/plain": [
       "('0xAe034382ff57aC...776', '0x0efC172a4688E7...5d4')"
      ]
     },
     "execution_count": 4,
     "metadata": {},
     "output_type": "execute_result"
    }
   ],
   "source": [
    "acc1 = Account()\n",
    "acc2 = Account()\n",
    "\n",
    "ph(acc1.pub), ph(acc2.pub)"
   ]
  },
  {
   "cell_type": "code",
   "execution_count": 6,
   "id": "surrounded-cotton",
   "metadata": {},
   "outputs": [
    {
     "name": "stdout",
     "output_type": "stream",
     "text": [
      "time:\tWed Mar 24 23:56:27 2021\n",
      "from:\t0xAe034382ff57aC...776\n",
      "to:\t0x0efC172a4688E7...5d4\n",
      "value:\t3 ether\n",
      "nonce:\t0 \n",
      "\n",
      "time:\tWed Mar 24 23:56:27 2021\n",
      "from:\t0x0efC172a4688E7...5d4\n",
      "to:\t0xAe034382ff57aC...776\n",
      "value:\t9 ether\n",
      "nonce:\t0\n"
     ]
    }
   ],
   "source": [
    "class TX: \n",
    "    def __init__(self, fr, to, value, nonce): \n",
    "        self.fr, self.to = fr, to\n",
    "        self.value       = value\n",
    "        self.nonce       = nonce\n",
    "        self.time        = time.time()\n",
    "    def __str__ (self): return ('time:\\t' + time.ctime(self.time)+\n",
    "                                '\\nfrom:\\t'   + ph(self.fr)+\n",
    "                                '\\nto:\\t'   + ph(self.to)+\n",
    "                                '\\nvalue:\\t'+ str(self.value)+' ether' \n",
    "                                '\\nnonce:\\t'+ str(self.nonce))\n",
    "    def __bytes__(self): return (self.fr+\n",
    "                                 self.to+\n",
    "                                 str(self.value)+\n",
    "                                 str(self.nonce)+\n",
    "                                 str(self.time)).encode()\n",
    "    \n",
    "tx1 = TX(acc1.pub, acc2.pub, 3, acc1.nonce)\n",
    "tx2 = TX(acc2.pub, acc1.pub, 9, acc2.nonce)\n",
    "\n",
    "print(tx1, '\\n')\n",
    "print(tx2)"
   ]
  },
  {
   "cell_type": "code",
   "execution_count": 7,
   "id": "adjacent-acceptance",
   "metadata": {},
   "outputs": [],
   "source": [
    "sig1 = acc1.sign(tx1)\n",
    "assert acc1.verify(tx1, sig1)\n",
    "\n",
    "sig2 = acc2.sign(tx2)\n",
    "assert acc2.verify(tx2, sig2)"
   ]
  },
  {
   "cell_type": "code",
   "execution_count": 8,
   "id": "flush-roman",
   "metadata": {},
   "outputs": [],
   "source": [
    "def txs2str(txs): return '\\n'.join([str(tx)+'\\n' for tx in txs])\n",
    "def unpack(o): return o.__dict__.values()"
   ]
  },
  {
   "cell_type": "code",
   "execution_count": 9,
   "id": "dirty-block",
   "metadata": {},
   "outputs": [
    {
     "name": "stdout",
     "output_type": "stream",
     "text": [
      "time:\t\tWed Mar 24 23:56:35 2021\n",
      "number:\t\t2\n",
      "prev_hash:\t8c2bceeaee2bff09...890\n",
      "\n",
      "txs:\t\t\n",
      "\n",
      "time:\tWed Mar 24 23:56:27 2021\n",
      "from:\t0xAe034382ff57aC...776\n",
      "to:\t0x0efC172a4688E7...5d4\n",
      "value:\t3 ether\n",
      "nonce:\t0\n",
      "\n",
      "time:\tWed Mar 24 23:56:27 2021\n",
      "from:\t0x0efC172a4688E7...5d4\n",
      "to:\t0xAe034382ff57aC...776\n",
      "value:\t9 ether\n",
      "nonce:\t0\n",
      "\n"
     ]
    }
   ],
   "source": [
    "class Block: \n",
    "    def __init__(self, txs, prev_hash, number, time):\n",
    "        self.txs       = txs\n",
    "        self.prev_hash = prev_hash\n",
    "        self.number    = number\n",
    "        self.time      = time\n",
    "    def size(self): return get_size(self)\n",
    "    def __str__(self): return ('time:\\t\\t'        + time.ctime(self.time)+\n",
    "                               '\\nnumber:\\t\\t'    + str(self.number)+\n",
    "                               '\\nprev_hash:\\t'   + ph(self.prev_hash)+\n",
    "                               '\\n\\ntxs:\\t\\t\\n\\n' + txs2str(self.txs))\n",
    "    def __bytes__(self): return (txs2str(self.txs)+\n",
    "                                 self.prev_hash+\n",
    "                                 str(self.number)+\n",
    "                                 str(self.time)).encode()\n",
    "        \n",
    "block = Block([tx1, tx2], rh(), 2, time.time())\n",
    "print(block)"
   ]
  },
  {
   "cell_type": "code",
   "execution_count": 10,
   "id": "fleet-valley",
   "metadata": {},
   "outputs": [
    {
     "name": "stdout",
     "output_type": "stream",
     "text": [
      "time:\t\tWed Mar 24 23:56:35 2021\n",
      "number:\t\t2\n",
      "prev_hash:\t8c2bceeaee2bff09...890\n",
      "\n",
      "txs:\t\t\n",
      "\n",
      "time:\tWed Mar 24 23:56:27 2021\n",
      "from:\t0xAe034382ff57aC...776\n",
      "to:\t0x0efC172a4688E7...5d4\n",
      "value:\t3 ether\n",
      "nonce:\t0\n",
      "\n",
      "time:\tWed Mar 24 23:56:27 2021\n",
      "from:\t0x0efC172a4688E7...5d4\n",
      "to:\t0xAe034382ff57aC...776\n",
      "value:\t9 ether\n",
      "nonce:\t0\n",
      "\n",
      "miner:\t\ted9005b2a70516d9...aef\n",
      "diff:\t\t3\n",
      "reward:\t\t100 ether\n",
      "size:\t\t1003 bytes\n"
     ]
    }
   ],
   "source": [
    "class MinebleBlock(Block):\n",
    "    def __init__(self, \n",
    "                 txs, \n",
    "                 prev_hash, \n",
    "                 number, \n",
    "                 time, \n",
    "                 miner, \n",
    "                 diff, \n",
    "                 reward, \n",
    "                 size):\n",
    "        super().__init__(txs, prev_hash, number, time)\n",
    "        self.miner  = miner\n",
    "        self.diff   = diff\n",
    "        self.reward = reward\n",
    "        self.size   = size\n",
    "    def __str__(self): return (super().__str__() + \n",
    "                               '\\nminer:\\t\\t'    + ph(self.miner)+\n",
    "                               '\\ndiff:\\t\\t'     + str(self.diff)+\n",
    "                               '\\nreward:\\t\\t'   + str(self.reward)+' ether'+\n",
    "                               '\\nsize:\\t\\t'     + str(self.size)+' bytes')\n",
    "    def __bytes__(self): return (super().__bytes__().decode()+\n",
    "                                 self.miner+\n",
    "                                 str(self.diff)+\n",
    "                                 str(self.reward)+\n",
    "                                 str(self.size)).encode()\n",
    "    \n",
    "mblock = MinebleBlock(*unpack(block), rh(), 3, 100, block.size())\n",
    "print(mblock)"
   ]
  },
  {
   "cell_type": "code",
   "execution_count": 11,
   "id": "lesser-blocking",
   "metadata": {},
   "outputs": [
    {
     "name": "stdout",
     "output_type": "stream",
     "text": [
      "time:\t\tWed Mar 24 23:56:35 2021\n",
      "number:\t\t2\n",
      "prev_hash:\t8c2bceeaee2bff09...890\n",
      "\n",
      "txs:\t\t\n",
      "\n",
      "time:\tWed Mar 24 23:56:27 2021\n",
      "from:\t0xAe034382ff57aC...776\n",
      "to:\t0x0efC172a4688E7...5d4\n",
      "value:\t3 ether\n",
      "nonce:\t0\n",
      "\n",
      "time:\tWed Mar 24 23:56:27 2021\n",
      "from:\t0x0efC172a4688E7...5d4\n",
      "to:\t0xAe034382ff57aC...776\n",
      "value:\t9 ether\n",
      "nonce:\t0\n",
      "\n",
      "miner:\t\ted9005b2a70516d9...aef\n",
      "diff:\t\t3\n",
      "reward:\t\t100 ether\n",
      "size:\t\t1003 bytes\n",
      "nonce:\t\t70\n",
      "hash:\t\tbdffcb6d5a2d3407...dfe\n"
     ]
    }
   ],
   "source": [
    "class MinedBlock(MinebleBlock):\n",
    "    def __init__(self, \n",
    "                 txs, \n",
    "                 prev_hash, \n",
    "                 number, \n",
    "                 time, \n",
    "                 miner, \n",
    "                 diff, \n",
    "                 reward, \n",
    "                 size, \n",
    "                 nonce):\n",
    "        super().__init__(txs, prev_hash, number, time, miner, diff, reward, size)\n",
    "        self.nonce         = nonce\n",
    "        self.hash          = sha256(bytes(self)).hexdigest() \n",
    "    \n",
    "    def verify_pow(self):\n",
    "        candidate   = super().__bytes__()+str(self.nonce).encode()\n",
    "        candidate_h = sha256(candidate).hexdigest()\n",
    "        return candidate_h[:self.diff] == '0'*self.diff\n",
    "    \n",
    "    def __str__(self):   return (super().__str__() +\n",
    "                               '\\nnonce:\\t\\t'      + str(self.nonce)+\n",
    "                               '\\nhash:\\t\\t'       + ph(self.hash))\n",
    "    def __bytes__(self): return (super().__bytes__().decode() + str(self.nonce)).encode()\n",
    "    \n",
    "mined_block = MinedBlock(*unpack(mblock), 70)\n",
    "print(mined_block)"
   ]
  },
  {
   "cell_type": "code",
   "execution_count": 17,
   "id": "identical-revolution",
   "metadata": {},
   "outputs": [],
   "source": [
    "mined_block = acc1.mine(block,3,100,10000)\n",
    "assert mined_block.verify_pow()"
   ]
  },
  {
   "cell_type": "code",
   "execution_count": 64,
   "id": "motivated-zoning",
   "metadata": {},
   "outputs": [],
   "source": [
    "class Blockchain:\n",
    "    def __init__(): pass"
   ]
  }
 ],
 "metadata": {
  "kernelspec": {
   "display_name": "Python 3",
   "language": "python",
   "name": "python3"
  },
  "language_info": {
   "codemirror_mode": {
    "name": "ipython",
    "version": 3
   },
   "file_extension": ".py",
   "mimetype": "text/x-python",
   "name": "python",
   "nbconvert_exporter": "python",
   "pygments_lexer": "ipython3",
   "version": "3.8.2"
  }
 },
 "nbformat": 4,
 "nbformat_minor": 5
}
