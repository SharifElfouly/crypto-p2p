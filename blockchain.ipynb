{
 "cells": [
  {
   "cell_type": "code",
   "execution_count": 1,
   "id": "second-trustee",
   "metadata": {},
   "outputs": [],
   "source": [
    "import time, sys\n",
    "import web3 as w3; w3 = w3.Account\n",
    "from objsize import get_deep_size as get_size\n",
    "from eth_account.messages import encode_defunct as encode_msg\n",
    "from hashlib import sha256"
   ]
  },
  {
   "cell_type": "code",
   "execution_count": 2,
   "id": "incorrect-basement",
   "metadata": {},
   "outputs": [],
   "source": [
    "ph = lambda h: h if len(h)<16 else h[:16] + '...' + h[-3:] # print hash\n",
    "rh = lambda: sha256(str(time.time()).encode()).hexdigest() # random hash\n",
    "\n",
    "def unpack(o): return o.__dict__.values()\n",
    "\n",
    "def addr2emoji(addr):\n",
    "    offset = int(addr[0:4], 0)\n",
    "    unicode = b'\\U' + b'000' + str(hex(0x1F466+offset))[2:].encode()\n",
    "    return unicode.decode('unicode_escape')"
   ]
  },
  {
   "cell_type": "code",
   "execution_count": 3,
   "id": "sound-tanzania",
   "metadata": {},
   "outputs": [],
   "source": [
    "class Account:\n",
    "    def __init__(self): \n",
    "        self.priv, self.pub = Account.keys()\n",
    "        self.nonce = 0\n",
    "        \n",
    "    @staticmethod\n",
    "    def keys():\n",
    "        acc = w3.create()\n",
    "        return acc.privateKey.hex(), acc.address\n",
    "    \n",
    "    def _sign(self, tx):\n",
    "        self.nonce += 1\n",
    "        m = encode_msg(bytes(tx))\n",
    "        sig = w3.sign_message(m, self.priv)\n",
    "        tx.sig = sig\n",
    "        return tx\n",
    "    \n",
    "    def send(self, to, value): return self._sign(TX(self.pub, to.pub, value, self.nonce))\n",
    "    \n",
    "    def mine(self, block, diff=2, reward=50, attempts=1000):\n",
    "        mblock   = MinebleBlock(*unpack(block), self.pub, diff, reward, block.size())\n",
    "        mblock_b = bytes(mblock)\n",
    "        nonce = 0\n",
    "        for i in range(attempts):\n",
    "            candidate   = mblock_b + str(nonce).encode()\n",
    "            candidate_h = sha256(candidate).hexdigest()\n",
    "            if candidate_h[:diff] == '0'*diff: return MinedBlock(*unpack(mblock), nonce)\n",
    "            nonce += 1\n",
    "            \n",
    "    def __str__(self): return addr2emoji(self.pub)+' '+ph(self.pub)"
   ]
  },
  {
   "cell_type": "code",
   "execution_count": 4,
   "id": "noted-sperm",
   "metadata": {},
   "outputs": [
    {
     "name": "stdout",
     "output_type": "stream",
     "text": [
      "🔎 0xA8Ff652D9524d1...c51\n",
      "📁 0x5B13eAD53a2144...a4d\n"
     ]
    }
   ],
   "source": [
    "acc1 = Account()\n",
    "acc2 = Account()\n",
    "\n",
    "print(acc1)\n",
    "print(acc2)"
   ]
  },
  {
   "cell_type": "code",
   "execution_count": 5,
   "id": "surrounded-cotton",
   "metadata": {},
   "outputs": [],
   "source": [
    "class TX: \n",
    "    def __init__(self, fr, to, value, nonce): \n",
    "        self.fr, self.to = fr, to\n",
    "        self.value       = value\n",
    "        self.nonce       = nonce\n",
    "        self.time        = time.time()\n",
    "    \n",
    "    @staticmethod\n",
    "    def verify(tx):\n",
    "        m = encode_msg(bytes(tx))\n",
    "        return w3.recover_message(m, signature=tx.sig.signature) == tx.fr\n",
    "    \n",
    "    def __str__ (self): return ('time:\\t'   + time.ctime(self.time)+\n",
    "                                '\\nfrom:\\t' + addr2emoji(self.fr)+' '+ph(self.fr)+\n",
    "                                '\\nto:\\t'   + addr2emoji(self.to)+' '+ph(self.to)+\n",
    "                                '\\nvalue:\\t'+ str(self.value)+' ether' \n",
    "                                '\\nnonce:\\t'+ str(self.nonce))\n",
    "    def __bytes__(self): return (self.fr+\n",
    "                                 self.to+\n",
    "                                 str(self.value)+\n",
    "                                 str(self.nonce)+\n",
    "                                 str(self.time)).encode()\n",
    "    \n",
    "def txs2str(txs): return '\\n'.join([str(tx)+'\\n' for tx in txs])"
   ]
  },
  {
   "cell_type": "code",
   "execution_count": 6,
   "id": "homeless-sound",
   "metadata": {},
   "outputs": [
    {
     "name": "stdout",
     "output_type": "stream",
     "text": [
      "time:\tThu Mar 25 19:55:02 2021\n",
      "from:\t🔎 0xA8Ff652D9524d1...c51\n",
      "to:\t📁 0x5B13eAD53a2144...a4d\n",
      "value:\t3 ether\n",
      "nonce:\t0 \n",
      "\n",
      "time:\tThu Mar 25 19:55:02 2021\n",
      "from:\t📁 0x5B13eAD53a2144...a4d\n",
      "to:\t🔎 0xA8Ff652D9524d1...c51\n",
      "value:\t9 ether\n",
      "nonce:\t0\n"
     ]
    }
   ],
   "source": [
    "tx1 = TX(acc1.pub, acc2.pub, 3, acc1.nonce)\n",
    "tx2 = TX(acc2.pub, acc1.pub, 9, acc2.nonce)\n",
    "\n",
    "print(tx1, '\\n')\n",
    "print(tx2)"
   ]
  },
  {
   "cell_type": "code",
   "execution_count": 7,
   "id": "adjacent-acceptance",
   "metadata": {},
   "outputs": [],
   "source": [
    "tx1 = acc1.send(acc2, 2)\n",
    "assert TX.verify(tx1)\n",
    "\n",
    "tx2 = acc2.send(acc1, 5)\n",
    "assert TX.verify(tx2)"
   ]
  },
  {
   "cell_type": "code",
   "execution_count": 8,
   "id": "dirty-block",
   "metadata": {},
   "outputs": [
    {
     "name": "stdout",
     "output_type": "stream",
     "text": [
      "time:\t\tThu Mar 25 19:55:02 2021\n",
      "number:\t\t2\n",
      "prev_hash:\t09e25b8b1bb49f3d...866\n",
      "\n",
      "txs:\t\t\n",
      "\n",
      "time:\tThu Mar 25 19:55:02 2021\n",
      "from:\t🔎 0xA8Ff652D9524d1...c51\n",
      "to:\t📁 0x5B13eAD53a2144...a4d\n",
      "value:\t2 ether\n",
      "nonce:\t0\n",
      "\n",
      "time:\tThu Mar 25 19:55:02 2021\n",
      "from:\t📁 0x5B13eAD53a2144...a4d\n",
      "to:\t🔎 0xA8Ff652D9524d1...c51\n",
      "value:\t5 ether\n",
      "nonce:\t0\n",
      "\n"
     ]
    }
   ],
   "source": [
    "class Block: \n",
    "    def __init__(self, txs, prev_hash, number, time):\n",
    "        self.txs       = txs\n",
    "        self.prev_hash = prev_hash\n",
    "        self.number    = number\n",
    "        self.time      = time\n",
    "    def size(self): return get_size(self)\n",
    "    def __str__(self): return ('time:\\t\\t'        + time.ctime(self.time)+\n",
    "                               '\\nnumber:\\t\\t'    + str(self.number)+\n",
    "                               '\\nprev_hash:\\t'   + ph(self.prev_hash)+\n",
    "                               '\\n\\ntxs:\\t\\t\\n\\n' + txs2str(self.txs))\n",
    "    def __bytes__(self): return (txs2str(self.txs)+\n",
    "                                 self.prev_hash+\n",
    "                                 str(self.number)+\n",
    "                                 str(self.time)).encode()\n",
    "        \n",
    "block = Block([tx1, tx2], rh(), 2, time.time())\n",
    "print(block)"
   ]
  },
  {
   "cell_type": "code",
   "execution_count": 9,
   "id": "fleet-valley",
   "metadata": {},
   "outputs": [
    {
     "name": "stdout",
     "output_type": "stream",
     "text": [
      "time:\t\tThu Mar 25 19:55:02 2021\n",
      "number:\t\t2\n",
      "prev_hash:\t09e25b8b1bb49f3d...866\n",
      "\n",
      "txs:\t\t\n",
      "\n",
      "time:\tThu Mar 25 19:55:02 2021\n",
      "from:\t🔎 0xA8Ff652D9524d1...c51\n",
      "to:\t📁 0x5B13eAD53a2144...a4d\n",
      "value:\t2 ether\n",
      "nonce:\t0\n",
      "\n",
      "time:\tThu Mar 25 19:55:02 2021\n",
      "from:\t📁 0x5B13eAD53a2144...a4d\n",
      "to:\t🔎 0xA8Ff652D9524d1...c51\n",
      "value:\t5 ether\n",
      "nonce:\t0\n",
      "\n",
      "miner:\t\tf6f76821b5c0c426...f96\n",
      "diff:\t\t3\n",
      "reward:\t\t100 ether\n",
      "size:\t\t2365 bytes\n"
     ]
    }
   ],
   "source": [
    "class MinebleBlock(Block):\n",
    "    def __init__(self, \n",
    "                 txs, \n",
    "                 prev_hash, \n",
    "                 number, \n",
    "                 time, \n",
    "                 miner, \n",
    "                 diff, \n",
    "                 reward, \n",
    "                 size):\n",
    "        super().__init__(txs, prev_hash, number, time)\n",
    "        self.miner  = miner\n",
    "        self.diff   = diff\n",
    "        self.reward = reward\n",
    "        self.size   = size\n",
    "    def __str__(self): return (super().__str__() + \n",
    "                               '\\nminer:\\t\\t'    + ph(self.miner)+\n",
    "                               '\\ndiff:\\t\\t'     + str(self.diff)+\n",
    "                               '\\nreward:\\t\\t'   + str(self.reward)+' ether'+\n",
    "                               '\\nsize:\\t\\t'     + str(self.size)+' bytes')\n",
    "    def __bytes__(self): return (super().__bytes__().decode()+\n",
    "                                 self.miner+\n",
    "                                 str(self.diff)+\n",
    "                                 str(self.reward)+\n",
    "                                 str(self.size)).encode()\n",
    "    \n",
    "mblock = MinebleBlock(*unpack(block), rh(), 3, 100, block.size())\n",
    "print(mblock)"
   ]
  },
  {
   "cell_type": "code",
   "execution_count": 10,
   "id": "national-lyric",
   "metadata": {},
   "outputs": [
    {
     "name": "stdout",
     "output_type": "stream",
     "text": [
      "time:\t\tThu Mar 25 19:55:02 2021\n",
      "number:\t\t2\n",
      "prev_hash:\t09e25b8b1bb49f3d...866\n",
      "\n",
      "txs:\t\t\n",
      "\n",
      "time:\tThu Mar 25 19:55:02 2021\n",
      "from:\t🔎 0xA8Ff652D9524d1...c51\n",
      "to:\t📁 0x5B13eAD53a2144...a4d\n",
      "value:\t2 ether\n",
      "nonce:\t0\n",
      "\n",
      "time:\tThu Mar 25 19:55:02 2021\n",
      "from:\t📁 0x5B13eAD53a2144...a4d\n",
      "to:\t🔎 0xA8Ff652D9524d1...c51\n",
      "value:\t5 ether\n",
      "nonce:\t0\n",
      "\n",
      "miner:\t\tf6f76821b5c0c426...f96\n",
      "diff:\t\t3\n",
      "reward:\t\t100 ether\n",
      "size:\t\t2365 bytes\n",
      "nonce:\t\t70\n",
      "hash:\t\tb2ed53986c1f3c0b...8c4\n"
     ]
    }
   ],
   "source": [
    "class MinedBlock(MinebleBlock):\n",
    "    def __init__(self, \n",
    "                 txs, \n",
    "                 prev_hash, \n",
    "                 number, \n",
    "                 time, \n",
    "                 miner, \n",
    "                 diff, \n",
    "                 reward, \n",
    "                 size, \n",
    "                 nonce):\n",
    "        super().__init__(txs, prev_hash, number, time, miner, diff, reward, size)\n",
    "        self.nonce         = nonce\n",
    "        self.hash          = sha256(bytes(self)).hexdigest() \n",
    "    \n",
    "    def verify_pow(self):\n",
    "        candidate   = super().__bytes__()+str(self.nonce).encode()\n",
    "        candidate_h = sha256(candidate).hexdigest()\n",
    "        return candidate_h[:self.diff] == '0'*self.diff\n",
    "    \n",
    "    def __str__(self):   return (super().__str__() +\n",
    "                               '\\nnonce:\\t\\t'      + str(self.nonce)+\n",
    "                               '\\nhash:\\t\\t'       + ph(self.hash))\n",
    "    def __bytes__(self): return (super().__bytes__().decode() + str(self.nonce)).encode()\n",
    "    \n",
    "    @staticmethod\n",
    "    def create_genesis(txs): return MinedBlock(txs,'0x0',0,time.time(),'0x0',0,0,0,0)\n",
    "    \n",
    "mined_block = MinedBlock(*unpack(mblock), 70)\n",
    "print(mined_block)"
   ]
  },
  {
   "cell_type": "code",
   "execution_count": 11,
   "id": "identical-revolution",
   "metadata": {},
   "outputs": [],
   "source": [
    "mined_block = acc1.mine(block,3,100,10000)\n",
    "assert mined_block.verify_pow()"
   ]
  },
  {
   "cell_type": "code",
   "execution_count": 82,
   "id": "motivated-zoning",
   "metadata": {},
   "outputs": [],
   "source": [
    "class Blockchain:\n",
    "    def __init__(self, genesis):\n",
    "        self.balances,self.nonces = {},{}\n",
    "        self.blocks   = []\n",
    "        self.init(genesis)\n",
    "        \n",
    "    def init(self, genesis):\n",
    "        for tx in genesis.txs: \n",
    "            self.balances[tx.to] = tx.value\n",
    "            self.nonces  [tx.to] = 0\n",
    "        self.blocks.append(genesis)\n",
    "\n",
    "    def candidate(self, txs):\n",
    "        return Block(txs, self.blocks[-1].hash, len(self.blocks)+1, time.time())\n",
    "        \n",
    "    def add(self, mb):\n",
    "        assert mb.verify_pow()\n",
    "        for tx in mb.txs:   assert self.apply(tx)\n",
    "        assert self.verify(mb)\n",
    "        self.balances[mb.miner] += mb.reward\n",
    "        self.blocks.append(mb)\n",
    "        return True\n",
    "        \n",
    "    def apply(self, tx):\n",
    "        if tx.fr in self.nonces:\n",
    "            assert self.nonces[tx.fr] == tx.nonce\n",
    "            self.nonces[tx.fr] += 1\n",
    "        else: self.nonces[tx.fr] = 0\n",
    "        assert self.balances[tx.fr] - tx.value > 0\n",
    "        self.balances[tx.fr] -= tx.value\n",
    "        if tx.to in self.balances:   self.balances[tx.to] += tx.value\n",
    "        else:                        self.balances[tx.to] = tx.value\n",
    "        if tx.to not in self.nonces: self.nonces[tx.to] = 0\n",
    "        return True\n",
    "    \n",
    "    def verify(self, mb): \n",
    "        assert mb.verify_pow()\n",
    "        if len(self.blocks) > 0: assert self.blocks[-1].hash == mb.prev_hash\n",
    "        for tx in mb.txs:        assert TX.verify(tx)\n",
    "        return True\n",
    "    \n",
    "    def __str__(self):\n",
    "        return '\\n'.join(f'{addr2emoji(k)} {ph(k)}\\nbalance: {v} \\nnonce: {self.nonces[k]}\\n' for k,v in self.balances.items())"
   ]
  },
  {
   "cell_type": "code",
   "execution_count": 83,
   "id": "tracked-killer",
   "metadata": {},
   "outputs": [],
   "source": [
    "acc1,acc2,acc3 = Account(),Account(),Account()"
   ]
  },
  {
   "cell_type": "code",
   "execution_count": 84,
   "id": "selected-queue",
   "metadata": {},
   "outputs": [],
   "source": [
    "tx1 = TX('0x0', acc1.pub, 90, 0)\n",
    "tx2 = TX('0x0', acc2.pub, 100, 0)\n",
    "\n",
    "genesis = MinedBlock.create_genesis([tx1, tx2])"
   ]
  },
  {
   "cell_type": "code",
   "execution_count": 85,
   "id": "several-longitude",
   "metadata": {},
   "outputs": [
    {
     "name": "stdout",
     "output_type": "stream",
     "text": [
      "💹 0x53e389876207F3...16B\n",
      "balance: 90 \n",
      "nonce: 0\n",
      "\n",
      "📜 0x76021B4caD4A0F...48C\n",
      "balance: 100 \n",
      "nonce: 0\n",
      "\n"
     ]
    }
   ],
   "source": [
    "bc = Blockchain(genesis); print(bc)"
   ]
  },
  {
   "cell_type": "code",
   "execution_count": 86,
   "id": "anonymous-rubber",
   "metadata": {},
   "outputs": [
    {
     "name": "stdout",
     "output_type": "stream",
     "text": [
      "💹 0x53e389876207F3...16B\n",
      "balance: 146 \n",
      "nonce: 1\n",
      "\n",
      "📜 0x76021B4caD4A0F...48C\n",
      "balance: 94 \n",
      "nonce: 1\n",
      "\n"
     ]
    }
   ],
   "source": [
    "tx1 = acc1.send(acc2, 3)\n",
    "tx2 = acc2.send(acc1, 9)\n",
    "\n",
    "block = bc.candidate([tx1,tx2])\n",
    "mb    = acc1.mine(block)\n",
    "bc.add(mb)\n",
    "print(bc)"
   ]
  },
  {
   "cell_type": "code",
   "execution_count": 87,
   "id": "classical-singer",
   "metadata": {},
   "outputs": [
    {
     "name": "stdout",
     "output_type": "stream",
     "text": [
      "💹 0x53e389876207F3...16B\n",
      "balance: 144 \n",
      "nonce: 2\n",
      "\n",
      "📜 0x76021B4caD4A0F...48C\n",
      "balance: 94 \n",
      "nonce: 1\n",
      "\n",
      "🔿 0xD9e45Fd7F84408...35B\n",
      "balance: 52 \n",
      "nonce: 1\n",
      "\n"
     ]
    }
   ],
   "source": [
    "tx3 = acc1.send(acc3, 112)\n",
    "tx4 = acc3.send(acc1, 60)\n",
    "\n",
    "block = bc.candidate([tx3,tx4])\n",
    "mb    = acc1.mine(block)\n",
    "bc.add(mb)\n",
    "print(bc)"
   ]
  }
 ],
 "metadata": {
  "kernelspec": {
   "display_name": "Python 3",
   "language": "python",
   "name": "python3"
  },
  "language_info": {
   "codemirror_mode": {
    "name": "ipython",
    "version": 3
   },
   "file_extension": ".py",
   "mimetype": "text/x-python",
   "name": "python",
   "nbconvert_exporter": "python",
   "pygments_lexer": "ipython3",
   "version": "3.8.2"
  }
 },
 "nbformat": 4,
 "nbformat_minor": 5
}
