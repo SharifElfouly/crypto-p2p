{
 "cells": [
  {
   "cell_type": "code",
   "execution_count": 1,
   "id": "second-trustee",
   "metadata": {},
   "outputs": [],
   "source": [
    "import time, sys\n",
    "import web3 as w3; w3 = w3.Account\n",
    "from objsize import get_deep_size as get_size\n",
    "from eth_account.messages import encode_defunct as encode_msg\n",
    "from hashlib import sha256"
   ]
  },
  {
   "cell_type": "code",
   "execution_count": 2,
   "id": "incorrect-basement",
   "metadata": {},
   "outputs": [],
   "source": [
    "# print hash\n",
    "ph = lambda h: h[:16] + '...' + h[-3:]\n",
    "\n",
    "# random hash\n",
    "rh = lambda  : sha256(str(time.time()).encode()).hexdigest()"
   ]
  },
  {
   "cell_type": "code",
   "execution_count": 53,
   "id": "sound-tanzania",
   "metadata": {},
   "outputs": [],
   "source": [
    "class Account:\n",
    "    def __init__(self): \n",
    "        self.priv, self.pub = Account.keys()\n",
    "        self.nonce = 0\n",
    "        \n",
    "    @staticmethod\n",
    "    def keys():\n",
    "        acc = w3.create()\n",
    "        return acc.privateKey.hex(), acc.address\n",
    "    \n",
    "    def sign(self, tx):\n",
    "        self.nonce += 1\n",
    "        m = encode_msg(bytes(tx))\n",
    "        return w3.sign_message(m, self.priv)\n",
    "    \n",
    "    def verify(self, tx, sig):\n",
    "        m = encode_msg(bytes(tx))\n",
    "        return w3.recover_message(m, signature=sig.signature) == self.pub\n",
    "    \n",
    "    def mine(self, block, diff, reward, attempts=1000):\n",
    "        mblock   = MinebleBlock(block, self.pub, diff, reward, block.size())\n",
    "        mblock_b = bytes(mblock)\n",
    "        nonce = 0\n",
    "        for i in range(attempts):\n",
    "            candidate   = mblock_b + str(nonce).encode()\n",
    "            candidate_h = sha256(candidate).hexdigest()\n",
    "            if candidate_h[:diff] == '0'*diff: return MinedBlock(mblock, nonce)\n",
    "            nonce += 1"
   ]
  },
  {
   "cell_type": "code",
   "execution_count": 54,
   "id": "noted-sperm",
   "metadata": {},
   "outputs": [
    {
     "data": {
      "text/plain": [
       "('0xC79B981AC79f1e...bB5', '0x522e8f32A743Ce...a7d')"
      ]
     },
     "execution_count": 54,
     "metadata": {},
     "output_type": "execute_result"
    }
   ],
   "source": [
    "acc1 = Account()\n",
    "acc2 = Account()\n",
    "\n",
    "ph(acc1.pub), ph(acc2.pub)"
   ]
  },
  {
   "cell_type": "code",
   "execution_count": 55,
   "id": "surrounded-cotton",
   "metadata": {},
   "outputs": [
    {
     "name": "stdout",
     "output_type": "stream",
     "text": [
      "from:\t0xC79B981AC79f1e...bB5\n",
      "to:\t0x522e8f32A743Ce...a7d\n",
      "value:\t3 ether\n",
      "nonce:\t0\n",
      "time:\tWed Mar 24 22:46:52 2021 \n",
      "\n",
      "from:\t0x522e8f32A743Ce...a7d\n",
      "to:\t0xC79B981AC79f1e...bB5\n",
      "value:\t9 ether\n",
      "nonce:\t0\n",
      "time:\tWed Mar 24 22:46:52 2021\n"
     ]
    }
   ],
   "source": [
    "class TX: \n",
    "    def __init__(self, fr, to, value, nonce): \n",
    "        self.fr, self.to = fr, to\n",
    "        self.value       = value\n",
    "        self.nonce       = nonce\n",
    "        self.time        = time.time()\n",
    "    def __str__ (self): return ('from:\\t'   + ph(self.fr)+\n",
    "                                '\\nto:\\t'   + ph(self.to)+\n",
    "                                '\\nvalue:\\t'+ str(self.value)+' ether' \n",
    "                                '\\nnonce:\\t'+ str(self.nonce)+\n",
    "                                '\\ntime:\\t' + time.ctime(self.time))\n",
    "    def __bytes__(self): return (self.fr+\n",
    "                                 self.to+\n",
    "                                 str(self.value)+\n",
    "                                 str(self.nonce)+\n",
    "                                 str(self.time)).encode()\n",
    "    \n",
    "tx1 = TX(acc1.pub, acc2.pub, 3, acc1.nonce)\n",
    "tx2 = TX(acc2.pub, acc1.pub, 9, acc2.nonce)\n",
    "\n",
    "print(tx1, '\\n')\n",
    "print(tx2)"
   ]
  },
  {
   "cell_type": "code",
   "execution_count": 56,
   "id": "adjacent-acceptance",
   "metadata": {},
   "outputs": [],
   "source": [
    "sig1 = acc1.sign(tx1)\n",
    "assert acc1.verify(tx1, sig1)\n",
    "\n",
    "sig2 = acc2.sign(tx2)\n",
    "assert acc2.verify(tx2, sig2)"
   ]
  },
  {
   "cell_type": "code",
   "execution_count": 57,
   "id": "flush-roman",
   "metadata": {},
   "outputs": [],
   "source": [
    "def txs2str(txs): return '\\n'.join([str(tx)+'\\n' for tx in txs])"
   ]
  },
  {
   "cell_type": "code",
   "execution_count": 58,
   "id": "dirty-block",
   "metadata": {},
   "outputs": [
    {
     "name": "stdout",
     "output_type": "stream",
     "text": [
      "time:\t\tWed Mar 24 22:46:54 2021\n",
      "number:\t\t2\n",
      "prev_hash:\t25b8c5557691f341...a3a\n",
      "\n",
      "txs:\t\t\n",
      "\n",
      "from:\t0xC79B981AC79f1e...bB5\n",
      "to:\t0x522e8f32A743Ce...a7d\n",
      "value:\t3 ether\n",
      "nonce:\t0\n",
      "time:\tWed Mar 24 22:46:52 2021\n",
      "\n"
     ]
    }
   ],
   "source": [
    "class Block: \n",
    "    def __init__(self, txs, prev_hash, number, time):\n",
    "        self.txs       = txs\n",
    "        self.prev_hash = prev_hash\n",
    "        self.number    = number\n",
    "        self.time      = time\n",
    "    def size(self): return get_size(self)\n",
    "    def __str__(self): return ('time:\\t\\t'        + time.ctime(self.time)+\n",
    "                               '\\nnumber:\\t\\t'    + str(self.number)+\n",
    "                               '\\nprev_hash:\\t'   + ph(self.prev_hash)+\n",
    "                               '\\n\\ntxs:\\t\\t\\n\\n' + txs2str(self.txs))\n",
    "    def __bytes__(self): return (txs2str(self.txs)+\n",
    "                                 self.prev_hash+\n",
    "                                 str(self.number)+\n",
    "                                 str(self.time)).encode()\n",
    "        \n",
    "block = Block([tx1], rh(), 2, time.time())\n",
    "print(block)"
   ]
  },
  {
   "cell_type": "code",
   "execution_count": 59,
   "id": "fleet-valley",
   "metadata": {},
   "outputs": [
    {
     "name": "stdout",
     "output_type": "stream",
     "text": [
      "time:\t\tWed Mar 24 22:46:54 2021\n",
      "number:\t\t2\n",
      "prev_hash:\t25b8c5557691f341...a3a\n",
      "\n",
      "txs:\t\t\n",
      "\n",
      "from:\t0xC79B981AC79f1e...bB5\n",
      "to:\t0x522e8f32A743Ce...a7d\n",
      "value:\t3 ether\n",
      "nonce:\t0\n",
      "time:\tWed Mar 24 22:46:52 2021\n",
      "\n",
      "miner:\t\t25a1ab5dda41795b8ab79310ebbde1db1e610317bb2d46b106cd61049d33d949\n",
      "diff:\t\t3\n",
      "reward:\t\t100 ether\n",
      "size:\t\t791 bytes\n"
     ]
    }
   ],
   "source": [
    "class MinebleBlock(Block):\n",
    "    def __init__(self, block, miner, diff, reward, size):\n",
    "        super().__init__(*block.__dict__.values())\n",
    "        self.miner  = miner\n",
    "        self.diff   = diff\n",
    "        self.reward = reward\n",
    "        self.size   = size\n",
    "    def __str__(self): return (super().__str__() + \n",
    "                               '\\nminer:\\t\\t'    + self.miner+\n",
    "                               '\\ndiff:\\t\\t'     + str(self.diff)+\n",
    "                               '\\nreward:\\t\\t'   + str(self.reward)+' ether'+\n",
    "                               '\\nsize:\\t\\t'     + str(self.size)+' bytes')\n",
    "    \n",
    "mblock = MinebleBlock(block, rh(), 3, 100, block.size())\n",
    "print(mblock)"
   ]
  },
  {
   "cell_type": "code",
   "execution_count": 62,
   "id": "generic-democrat",
   "metadata": {},
   "outputs": [],
   "source": [
    "class MinedBlock(MinebleBlock):\n",
    "    def __init__(self, mineble_block, nonce):\n",
    "        mb    = mineble_block\n",
    "        block = Block(mb.txs, mb.prev_hash, mb.number, mb.time)\n",
    "        super().__init__(block, mb.miner, mb.diff, mb.reward, mb.size)\n",
    "        self.nonce         = nonce\n",
    "        self.mineble_block = mineble_block\n",
    "        \n",
    "    def verify_pow(self):\n",
    "        candidate   = bytes(self.mineble_block)+str(self.nonce).encode()\n",
    "        candidate_h = sha256(candidate).hexdigest()\n",
    "        return candidate_h[:self.mineble_block.diff] == '0'*self.mineble_block.diff\n",
    "    \n",
    "mined_block = MinedBlock(mblock, 70)"
   ]
  },
  {
   "cell_type": "code",
   "execution_count": 63,
   "id": "identical-revolution",
   "metadata": {},
   "outputs": [],
   "source": [
    "mined_block = acc1.mine(block,3,100,10000)\n",
    "assert mined_block.verify_pow()"
   ]
  },
  {
   "cell_type": "code",
   "execution_count": 64,
   "id": "motivated-zoning",
   "metadata": {},
   "outputs": [],
   "source": [
    "class Blockchain:\n",
    "    def __init__(): pass"
   ]
  }
 ],
 "metadata": {
  "kernelspec": {
   "display_name": "Python 3",
   "language": "python",
   "name": "python3"
  },
  "language_info": {
   "codemirror_mode": {
    "name": "ipython",
    "version": 3
   },
   "file_extension": ".py",
   "mimetype": "text/x-python",
   "name": "python",
   "nbconvert_exporter": "python",
   "pygments_lexer": "ipython3",
   "version": "3.8.2"
  }
 },
 "nbformat": 4,
 "nbformat_minor": 5
}
