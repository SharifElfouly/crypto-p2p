{
 "cells": [
  {
   "cell_type": "code",
   "execution_count": 12,
   "id": "equal-holocaust",
   "metadata": {},
   "outputs": [],
   "source": [
    "from web3 import Web3\n",
    "import requests"
   ]
  },
  {
   "cell_type": "code",
   "execution_count": 13,
   "id": "middle-visit",
   "metadata": {},
   "outputs": [
    {
     "data": {
      "text/plain": [
       "True"
      ]
     },
     "execution_count": 13,
     "metadata": {},
     "output_type": "execute_result"
    }
   ],
   "source": [
    "w3 = Web3(Web3.HTTPProvider('https://mainnet.infura.io/v3/786a7764b8234b06b4cd6764a1646a17'))\n",
    "w3.isConnected()"
   ]
  },
  {
   "cell_type": "code",
   "execution_count": 14,
   "id": "exclusive-release",
   "metadata": {},
   "outputs": [],
   "source": [
    "def gas_price(): return float(w3.fromWei(w3.eth.gas_price, 'ether'))"
   ]
  },
  {
   "cell_type": "code",
   "execution_count": 19,
   "id": "appointed-implementation",
   "metadata": {},
   "outputs": [],
   "source": [
    "API_URL = 'https://min-api.cryptocompare.com/data/price?fsym=ETH&tsyms=BTC,USD,EUR'\n",
    "def eth2usd(): return requests.get(API_URL).json()['USD']"
   ]
  },
  {
   "cell_type": "code",
   "execution_count": 16,
   "id": "changed-protocol",
   "metadata": {},
   "outputs": [],
   "source": [
    "def usdify(value): return f'${round(value, 2)}'"
   ]
  },
  {
   "cell_type": "code",
   "execution_count": 20,
   "id": "irish-minister",
   "metadata": {},
   "outputs": [],
   "source": [
    "gas = {\n",
    "    'value_transfer'  : 21_000,\n",
    "    'simple_contract' : 57_000,\n",
    "    'complex_contract': 200_000,\n",
    "    'xxx'             : 1_000_000\n",
    "}"
   ]
  },
  {
   "cell_type": "code",
   "execution_count": 21,
   "id": "legal-labor",
   "metadata": {},
   "outputs": [
    {
     "name": "stdout",
     "output_type": "stream",
     "text": [
      "gas 21000\t= $4.04\n",
      "gas 57000\t= $10.97\n",
      "gas 200000\t= $38.49\n",
      "gas 1000000\t= $192.42\n"
     ]
    }
   ],
   "source": [
    "for k,v in gas.items(): print(f'gas {v}\\t=', usdify(gas_price() * eth2usd() * gas[k]))"
   ]
  }
 ],
 "metadata": {
  "kernelspec": {
   "display_name": "Python 3",
   "language": "python",
   "name": "python3"
  },
  "language_info": {
   "codemirror_mode": {
    "name": "ipython",
    "version": 3
   },
   "file_extension": ".py",
   "mimetype": "text/x-python",
   "name": "python",
   "nbconvert_exporter": "python",
   "pygments_lexer": "ipython3",
   "version": "3.8.2"
  }
 },
 "nbformat": 4,
 "nbformat_minor": 5
}
