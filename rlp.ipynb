{
 "cells": [
  {
   "cell_type": "code",
   "execution_count": 121,
   "id": "hazardous-chemistry",
   "metadata": {},
   "outputs": [],
   "source": [
    "from rlp import encode, decode"
   ]
  },
  {
   "cell_type": "code",
   "execution_count": 69,
   "id": "demonstrated-glasgow",
   "metadata": {},
   "outputs": [
    {
     "data": {
      "text/plain": [
       "b'\\xe4\\x87vitalik\\xd5\\x87satoshi\\xcc\\x86finney\\x84poon\\x85szabo'"
      ]
     },
     "execution_count": 69,
     "metadata": {},
     "output_type": "execute_result"
    }
   ],
   "source": [
    "e = encode(['vitalik', ['satoshi', ['finney', 'poon']], 'szabo']); e"
   ]
  },
  {
   "cell_type": "code",
   "execution_count": 70,
   "id": "mobile-waterproof",
   "metadata": {},
   "outputs": [
    {
     "data": {
      "text/plain": [
       "[b'vitalik', [b'satoshi', [b'finney', b'poon']], b'szabo']"
      ]
     },
     "execution_count": 70,
     "metadata": {},
     "output_type": "execute_result"
    }
   ],
   "source": [
    "d = decode(e); d"
   ]
  },
  {
   "cell_type": "code",
   "execution_count": 79,
   "id": "congressional-reunion",
   "metadata": {},
   "outputs": [
    {
     "data": {
      "text/plain": [
       "['vitalik', ['satoshi', ['finney', 'poon']], 'szabo']"
      ]
     },
     "execution_count": 79,
     "metadata": {},
     "output_type": "execute_result"
    }
   ],
   "source": [
    "def b2s(b):\n",
    "    r = []\n",
    "    for e in b:\n",
    "        if isinstance(e, bytes): r.append(e.decode())\n",
    "        if isinstance(e, list):  r.append(b2s(e))\n",
    "    return r\n",
    "\n",
    "b2s(d)"
   ]
  },
  {
   "cell_type": "markdown",
   "id": "regulated-hardware",
   "metadata": {},
   "source": [
    "## rlp encode/decode txs in block"
   ]
  },
  {
   "cell_type": "code",
   "execution_count": 81,
   "id": "catholic-quarterly",
   "metadata": {},
   "outputs": [
    {
     "data": {
      "text/plain": [
       "True"
      ]
     },
     "execution_count": 81,
     "metadata": {},
     "output_type": "execute_result"
    }
   ],
   "source": [
    "from web3 import Web3\n",
    "w3 = Web3(Web3.HTTPProvider('https://mainnet.infura.io/v3/786a7764b8234b06b4cd6764a1646a17'))\n",
    "w3.isConnected()"
   ]
  },
  {
   "cell_type": "code",
   "execution_count": 108,
   "id": "disciplinary-venue",
   "metadata": {},
   "outputs": [
    {
     "data": {
      "text/plain": [
       "[HexBytes('0xe217b4f3b3566e39aaa98ac3c8119e943de114d44ff0043d0a79381d6795a7d8'),\n",
       " HexBytes('0xbf33f86374e9c0c9f2713156ee2cdb647e9a813f1db75805331bf7948eeac6ec')]"
      ]
     },
     "execution_count": 108,
     "metadata": {},
     "output_type": "execute_result"
    }
   ],
   "source": [
    "txs = w3.eth.get_block(2_000_002)['transactions'][:2]; txs"
   ]
  },
  {
   "cell_type": "code",
   "execution_count": 118,
   "id": "matched-moral",
   "metadata": {},
   "outputs": [
    {
     "data": {
      "text/plain": [
       "b'\\xf8B\\xa0\\xe2\\x17\\xb4\\xf3\\xb3Vn9\\xaa\\xa9\\x8a\\xc3\\xc8\\x11\\x9e\\x94=\\xe1\\x14\\xd4O\\xf0\\x04=\\ny8\\x1dg\\x95\\xa7\\xd8\\xa0\\xbf3\\xf8ct\\xe9\\xc0\\xc9\\xf2q1V\\xee,\\xdbd~\\x9a\\x81?\\x1d\\xb7X\\x053\\x1b\\xf7\\x94\\x8e\\xea\\xc6\\xec'"
      ]
     },
     "execution_count": 118,
     "metadata": {},
     "output_type": "execute_result"
    }
   ],
   "source": [
    "txs_e = encode(txs); txs_e"
   ]
  },
  {
   "cell_type": "code",
   "execution_count": 119,
   "id": "circular-unemployment",
   "metadata": {},
   "outputs": [
    {
     "data": {
      "text/plain": [
       "[b'\\xe2\\x17\\xb4\\xf3\\xb3Vn9\\xaa\\xa9\\x8a\\xc3\\xc8\\x11\\x9e\\x94=\\xe1\\x14\\xd4O\\xf0\\x04=\\ny8\\x1dg\\x95\\xa7\\xd8',\n",
       " b'\\xbf3\\xf8ct\\xe9\\xc0\\xc9\\xf2q1V\\xee,\\xdbd~\\x9a\\x81?\\x1d\\xb7X\\x053\\x1b\\xf7\\x94\\x8e\\xea\\xc6\\xec']"
      ]
     },
     "execution_count": 119,
     "metadata": {},
     "output_type": "execute_result"
    }
   ],
   "source": [
    "txs_d = decode(txs_e); txs_d"
   ]
  },
  {
   "cell_type": "code",
   "execution_count": 120,
   "id": "understanding-naples",
   "metadata": {},
   "outputs": [
    {
     "data": {
      "text/plain": [
       "['e217b4f3b3566e39aaa98ac3c8119e943de114d44ff0043d0a79381d6795a7d8',\n",
       " 'bf33f86374e9c0c9f2713156ee2cdb647e9a813f1db75805331bf7948eeac6ec']"
      ]
     },
     "execution_count": 120,
     "metadata": {},
     "output_type": "execute_result"
    }
   ],
   "source": [
    "[bytearray(tx).hex() for tx in txs_d]"
   ]
  }
 ],
 "metadata": {
  "kernelspec": {
   "display_name": "Python 3",
   "language": "python",
   "name": "python3"
  },
  "language_info": {
   "codemirror_mode": {
    "name": "ipython",
    "version": 3
   },
   "file_extension": ".py",
   "mimetype": "text/x-python",
   "name": "python",
   "nbconvert_exporter": "python",
   "pygments_lexer": "ipython3",
   "version": "3.8.2"
  }
 },
 "nbformat": 4,
 "nbformat_minor": 5
}
